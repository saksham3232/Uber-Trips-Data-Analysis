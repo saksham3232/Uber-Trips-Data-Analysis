{
 "cells": [
  {
   "cell_type": "markdown",
   "id": "d78c0523",
   "metadata": {},
   "source": [
    "# Uber Trips Analysis"
   ]
  },
  {
   "cell_type": "code",
   "execution_count": 35,
   "id": "2951b27b",
   "metadata": {},
   "outputs": [],
   "source": [
    "import numpy as np\n",
    "import pandas as pd\n",
    "import matplotlib.pyplot as plt\n",
    "%matplotlib inline\n",
    "import seaborn as sns\n",
    "from datetime import datetime\n",
    "from datetime import timedelta\n",
    "import folium\n",
    "from folium import plugins\n",
    "import warnings\n",
    "warnings.filterwarnings('ignore')"
   ]
  },
  {
   "cell_type": "markdown",
   "id": "f2985f2f",
   "metadata": {},
   "source": [
    "Loading data"
   ]
  },
  {
   "cell_type": "code",
   "execution_count": 36,
   "id": "aeb2b553",
   "metadata": {},
   "outputs": [],
   "source": [
    "rides = pd.read_csv(\"trips_data.csv\")"
   ]
  },
  {
   "cell_type": "markdown",
   "id": "b7acb455",
   "metadata": {},
   "source": [
    "## Data Cleaning"
   ]
  },
  {
   "cell_type": "markdown",
   "id": "fce2a721",
   "metadata": {},
   "source": [
    "Data Description"
   ]
  },
  {
   "cell_type": "code",
   "execution_count": 37,
   "id": "2beb859e",
   "metadata": {},
   "outputs": [
    {
     "data": {
      "text/html": [
       "<div>\n",
       "<style scoped>\n",
       "    .dataframe tbody tr th:only-of-type {\n",
       "        vertical-align: middle;\n",
       "    }\n",
       "\n",
       "    .dataframe tbody tr th {\n",
       "        vertical-align: top;\n",
       "    }\n",
       "\n",
       "    .dataframe thead th {\n",
       "        text-align: right;\n",
       "    }\n",
       "</style>\n",
       "<table border=\"1\" class=\"dataframe\">\n",
       "  <thead>\n",
       "    <tr style=\"text-align: right;\">\n",
       "      <th></th>\n",
       "      <th>City</th>\n",
       "      <th>Product Type</th>\n",
       "      <th>Trip or Order Status</th>\n",
       "      <th>Request Time</th>\n",
       "      <th>Begin Trip Time</th>\n",
       "      <th>Begin Trip Lat</th>\n",
       "      <th>Begin Trip Lng</th>\n",
       "      <th>Dropoff Time</th>\n",
       "      <th>Dropoff Lat</th>\n",
       "      <th>Dropoff Lng</th>\n",
       "      <th>Distance (miles)</th>\n",
       "      <th>Fare Amount</th>\n",
       "      <th>Fare Currency</th>\n",
       "    </tr>\n",
       "  </thead>\n",
       "  <tbody>\n",
       "    <tr>\n",
       "      <th>0</th>\n",
       "      <td>458</td>\n",
       "      <td>Black</td>\n",
       "      <td>COMPLETED</td>\n",
       "      <td>2021-01-13 22:06:46 +0000 UTC</td>\n",
       "      <td>2021-01-13 22:11:10 +0000 UTC</td>\n",
       "      <td>-23.599752</td>\n",
       "      <td>-46.715954</td>\n",
       "      <td>2021-01-13 22:29:13 +0000 UTC</td>\n",
       "      <td>-23.559359</td>\n",
       "      <td>-46.666542</td>\n",
       "      <td>4.84</td>\n",
       "      <td>29.63</td>\n",
       "      <td>BRL</td>\n",
       "    </tr>\n",
       "    <tr>\n",
       "      <th>1</th>\n",
       "      <td>458</td>\n",
       "      <td>VIP</td>\n",
       "      <td>COMPLETED</td>\n",
       "      <td>2021-01-13 20:21:05 +0000 UTC</td>\n",
       "      <td>2021-01-13 20:27:29 +0000 UTC</td>\n",
       "      <td>-23.559298</td>\n",
       "      <td>-46.666454</td>\n",
       "      <td>2021-01-13 20:54:50 +0000 UTC</td>\n",
       "      <td>-23.599585</td>\n",
       "      <td>-46.715717</td>\n",
       "      <td>5.31</td>\n",
       "      <td>20.86</td>\n",
       "      <td>BRL</td>\n",
       "    </tr>\n",
       "    <tr>\n",
       "      <th>2</th>\n",
       "      <td>458</td>\n",
       "      <td>VIP</td>\n",
       "      <td>COMPLETED</td>\n",
       "      <td>2021-01-03 00:23:22 +0000 UTC</td>\n",
       "      <td>2021-01-03 00:33:00 +0000 UTC</td>\n",
       "      <td>-23.626593</td>\n",
       "      <td>-46.659410</td>\n",
       "      <td>2021-01-03 00:50:56 +0000 UTC</td>\n",
       "      <td>-23.559273</td>\n",
       "      <td>-46.666595</td>\n",
       "      <td>5.90</td>\n",
       "      <td>34.23</td>\n",
       "      <td>BRL</td>\n",
       "    </tr>\n",
       "    <tr>\n",
       "      <th>3</th>\n",
       "      <td>458</td>\n",
       "      <td>VIP</td>\n",
       "      <td>COMPLETED</td>\n",
       "      <td>2020-12-11 23:16:33 +0000 UTC</td>\n",
       "      <td>2020-12-11 23:27:32 +0000 UTC</td>\n",
       "      <td>-23.559410</td>\n",
       "      <td>-46.666435</td>\n",
       "      <td>2020-12-12 00:32:47 +0000 UTC</td>\n",
       "      <td>-23.425755</td>\n",
       "      <td>-46.481190</td>\n",
       "      <td>19.74</td>\n",
       "      <td>58.77</td>\n",
       "      <td>BRL</td>\n",
       "    </tr>\n",
       "    <tr>\n",
       "      <th>4</th>\n",
       "      <td>458</td>\n",
       "      <td>VIP</td>\n",
       "      <td>COMPLETED</td>\n",
       "      <td>2020-12-11 00:35:46 +0000 UTC</td>\n",
       "      <td>2020-12-11 00:46:46 +0000 UTC</td>\n",
       "      <td>-23.584846</td>\n",
       "      <td>-46.663590</td>\n",
       "      <td>2020-12-11 00:57:57 +0000 UTC</td>\n",
       "      <td>-23.559261</td>\n",
       "      <td>-46.666510</td>\n",
       "      <td>2.54</td>\n",
       "      <td>12.63</td>\n",
       "      <td>BRL</td>\n",
       "    </tr>\n",
       "  </tbody>\n",
       "</table>\n",
       "</div>"
      ],
      "text/plain": [
       "   City Product Type Trip or Order Status                   Request Time  \\\n",
       "0   458        Black            COMPLETED  2021-01-13 22:06:46 +0000 UTC   \n",
       "1   458          VIP            COMPLETED  2021-01-13 20:21:05 +0000 UTC   \n",
       "2   458          VIP            COMPLETED  2021-01-03 00:23:22 +0000 UTC   \n",
       "3   458          VIP            COMPLETED  2020-12-11 23:16:33 +0000 UTC   \n",
       "4   458          VIP            COMPLETED  2020-12-11 00:35:46 +0000 UTC   \n",
       "\n",
       "                 Begin Trip Time  Begin Trip Lat  Begin Trip Lng  \\\n",
       "0  2021-01-13 22:11:10 +0000 UTC      -23.599752      -46.715954   \n",
       "1  2021-01-13 20:27:29 +0000 UTC      -23.559298      -46.666454   \n",
       "2  2021-01-03 00:33:00 +0000 UTC      -23.626593      -46.659410   \n",
       "3  2020-12-11 23:27:32 +0000 UTC      -23.559410      -46.666435   \n",
       "4  2020-12-11 00:46:46 +0000 UTC      -23.584846      -46.663590   \n",
       "\n",
       "                    Dropoff Time  Dropoff Lat  Dropoff Lng  Distance (miles)  \\\n",
       "0  2021-01-13 22:29:13 +0000 UTC   -23.559359   -46.666542              4.84   \n",
       "1  2021-01-13 20:54:50 +0000 UTC   -23.599585   -46.715717              5.31   \n",
       "2  2021-01-03 00:50:56 +0000 UTC   -23.559273   -46.666595              5.90   \n",
       "3  2020-12-12 00:32:47 +0000 UTC   -23.425755   -46.481190             19.74   \n",
       "4  2020-12-11 00:57:57 +0000 UTC   -23.559261   -46.666510              2.54   \n",
       "\n",
       "   Fare Amount Fare Currency  \n",
       "0        29.63           BRL  \n",
       "1        20.86           BRL  \n",
       "2        34.23           BRL  \n",
       "3        58.77           BRL  \n",
       "4        12.63           BRL  "
      ]
     },
     "execution_count": 37,
     "metadata": {},
     "output_type": "execute_result"
    }
   ],
   "source": [
    "rides.head()"
   ]
  },
  {
   "cell_type": "code",
   "execution_count": 38,
   "id": "513f6be5",
   "metadata": {},
   "outputs": [
    {
     "data": {
      "text/plain": [
       "Index(['City', 'Product Type', 'Trip or Order Status', 'Request Time',\n",
       "       'Begin Trip Time', 'Begin Trip Lat', 'Begin Trip Lng', 'Dropoff Time',\n",
       "       'Dropoff Lat', 'Dropoff Lng', 'Distance (miles)', 'Fare Amount',\n",
       "       'Fare Currency'],\n",
       "      dtype='object')"
      ]
     },
     "execution_count": 38,
     "metadata": {},
     "output_type": "execute_result"
    }
   ],
   "source": [
    "rides.columns"
   ]
  },
  {
   "cell_type": "markdown",
   "id": "72db5fed",
   "metadata": {},
   "source": [
    "Clean up column names that contain whitespace"
   ]
  },
  {
   "cell_type": "code",
   "execution_count": 67,
   "id": "f2301c9b",
   "metadata": {},
   "outputs": [
    {
     "data": {
      "text/plain": [
       "21"
      ]
     },
     "execution_count": 67,
     "metadata": {},
     "output_type": "execute_result"
    }
   ],
   "source": [
    "len(rides.columns)"
   ]
  },
  {
   "cell_type": "code",
   "execution_count": 39,
   "id": "4599ddba",
   "metadata": {},
   "outputs": [],
   "source": [
    "rides.columns = rides.columns.str.replace(' ', '_')"
   ]
  },
  {
   "cell_type": "code",
   "execution_count": 40,
   "id": "c4a0ef02",
   "metadata": {},
   "outputs": [
    {
     "name": "stdout",
     "output_type": "stream",
     "text": [
      "<class 'pandas.core.frame.DataFrame'>\n",
      "RangeIndex: 554 entries, 0 to 553\n",
      "Data columns (total 13 columns):\n",
      " #   Column                Non-Null Count  Dtype  \n",
      "---  ------                --------------  -----  \n",
      " 0   City                  554 non-null    int64  \n",
      " 1   Product_Type          551 non-null    object \n",
      " 2   Trip_or_Order_Status  554 non-null    object \n",
      " 3   Request_Time          554 non-null    object \n",
      " 4   Begin_Trip_Time       554 non-null    object \n",
      " 5   Begin_Trip_Lat        525 non-null    float64\n",
      " 6   Begin_Trip_Lng        525 non-null    float64\n",
      " 7   Dropoff_Time          554 non-null    object \n",
      " 8   Dropoff_Lat           525 non-null    float64\n",
      " 9   Dropoff_Lng           525 non-null    float64\n",
      " 10  Distance_(miles)      554 non-null    float64\n",
      " 11  Fare_Amount           554 non-null    float64\n",
      " 12  Fare_Currency         551 non-null    object \n",
      "dtypes: float64(6), int64(1), object(6)\n",
      "memory usage: 56.4+ KB\n"
     ]
    }
   ],
   "source": [
    "rides.info()"
   ]
  },
  {
   "cell_type": "code",
   "execution_count": 41,
   "id": "9e0eade6",
   "metadata": {},
   "outputs": [
    {
     "data": {
      "text/plain": [
       "City                     0\n",
       "Product_Type             3\n",
       "Trip_or_Order_Status     0\n",
       "Request_Time             0\n",
       "Begin_Trip_Time          0\n",
       "Begin_Trip_Lat          29\n",
       "Begin_Trip_Lng          29\n",
       "Dropoff_Time             0\n",
       "Dropoff_Lat             29\n",
       "Dropoff_Lng             29\n",
       "Distance_(miles)         0\n",
       "Fare_Amount              0\n",
       "Fare_Currency            3\n",
       "dtype: int64"
      ]
     },
     "execution_count": 41,
     "metadata": {},
     "output_type": "execute_result"
    }
   ],
   "source": [
    "rides.isnull().sum()"
   ]
  },
  {
   "cell_type": "code",
   "execution_count": 42,
   "id": "7f4fad1d",
   "metadata": {},
   "outputs": [],
   "source": [
    "rides.dropna(inplace=True)"
   ]
  },
  {
   "cell_type": "code",
   "execution_count": 43,
   "id": "d4c918f9",
   "metadata": {},
   "outputs": [
    {
     "name": "stdout",
     "output_type": "stream",
     "text": [
      "Product_Type\n",
      "UberX                   166\n",
      "uberX                   140\n",
      "uberX VIP                81\n",
      "VIP                      69\n",
      "POOL                     26\n",
      "UberEATS Marketplace     10\n",
      "POOL: MATCHED             8\n",
      "Pool                      6\n",
      "uberPOOL: MATCHED         5\n",
      "uberPOOL                  5\n",
      "Pool: MATCHED             4\n",
      "Black                     3\n",
      "UberBLACK                 1\n",
      "uberx                     1\n",
      "Name: count, dtype: int64\n"
     ]
    }
   ],
   "source": [
    "# Checking categories in Product_Type column\n",
    "print(rides.Product_Type.value_counts())"
   ]
  },
  {
   "cell_type": "markdown",
   "id": "d3dae386",
   "metadata": {},
   "source": [
    "In Product_Type column,different values referring to the same category. So, reclassifying it."
   ]
  },
  {
   "cell_type": "code",
   "execution_count": 44,
   "id": "c885eff7",
   "metadata": {},
   "outputs": [
    {
     "name": "stdout",
     "output_type": "stream",
     "text": [
      "Product_Type\n",
      "UberX                   457\n",
      "Pool                     54\n",
      "UberEATS Marketplace     10\n",
      "Black                     4\n",
      "Name: count, dtype: int64\n"
     ]
    }
   ],
   "source": [
    "# Categories reclassification\n",
    "product_mapping = {'UberX':'UberX','uberX':'UberX','uberX VIP':'UberX','VIP':'UberX','POOL':'Pool','POOL: MATCHED':'Pool','UberBLACK': 'Black',\n",
    "                   'uberx':'UberX','uberPOOL':'Pool','uberPOOL: MATCHED':'Pool','Pool: MATCHED':'Pool'}\n",
    "\n",
    "# New categories replacement\n",
    "rides['Product_Type'].replace(product_mapping, inplace=True)\n",
    "\n",
    "# Checking new categories in product_type column\n",
    "print(rides.Product_Type.value_counts())"
   ]
  },
  {
   "cell_type": "code",
   "execution_count": 45,
   "id": "30400437",
   "metadata": {},
   "outputs": [
    {
     "data": {
      "text/plain": [
       "array(['Black', 'UberX', 'UberEATS Marketplace', 'Pool'], dtype=object)"
      ]
     },
     "execution_count": 45,
     "metadata": {},
     "output_type": "execute_result"
    }
   ],
   "source": [
    "##checking different product types\n",
    "rides[\"Product_Type\"].unique()"
   ]
  },
  {
   "cell_type": "markdown",
   "id": "46698193",
   "metadata": {},
   "source": [
    "Removed the UberEATS records as it is not required for analysis."
   ]
  },
  {
   "cell_type": "code",
   "execution_count": 46,
   "id": "71d695ba",
   "metadata": {},
   "outputs": [],
   "source": [
    "rides = rides[rides.Product_Type!='UberEATS Marketplace']"
   ]
  },
  {
   "cell_type": "markdown",
   "id": "8fa62d32",
   "metadata": {},
   "source": [
    " Request_Time, Begin_Trip_Time, Dropoff_Time from string to datetime"
   ]
  },
  {
   "cell_type": "code",
   "execution_count": 47,
   "id": "0652cd44",
   "metadata": {},
   "outputs": [],
   "source": [
    "rides['Request_Time'] = rides['Request_Time'].apply(lambda x: x.replace(' +0000 UTC', ''))\n",
    "rides['Request_Time'] = pd.to_datetime(rides['Request_Time'])"
   ]
  },
  {
   "cell_type": "code",
   "execution_count": 48,
   "id": "df79411b",
   "metadata": {},
   "outputs": [],
   "source": [
    "rides['Begin_Trip_Time'] = rides['Begin_Trip_Time'].apply(lambda x: x.replace(' +0000 UTC', ''))\n",
    "rides['Begin_Trip_Time'] = pd.to_datetime(rides['Begin_Trip_Time'])"
   ]
  },
  {
   "cell_type": "code",
   "execution_count": 49,
   "id": "fcfdcc4d",
   "metadata": {},
   "outputs": [],
   "source": [
    "rides['Dropoff_Time'] = rides['Dropoff_Time'].apply(lambda x: x.replace(' +0000 UTC', ''))\n",
    "rides['Dropoff_Time'] = pd.to_datetime(rides['Dropoff_Time'])"
   ]
  },
  {
   "cell_type": "markdown",
   "id": "39fac66f",
   "metadata": {},
   "source": [
    "Request_Time is splitted with more suitable columns"
   ]
  },
  {
   "cell_type": "code",
   "execution_count": 50,
   "id": "5d3907f5",
   "metadata": {},
   "outputs": [],
   "source": [
    "rides['year'] = rides.Request_Time.map(lambda x: datetime.strftime(x,\"%Y\"))\n",
    "rides['month'] = rides.Request_Time.map(lambda x: datetime.strftime(x,\"%b\"))\n",
    "rides['weekday'] = rides.Request_Time.map(lambda x: datetime.strftime(x,\"%a\"))\n",
    "rides['time'] = rides.Request_Time.map(lambda x: datetime.strftime(x,\"%H:%M\"))"
   ]
  },
  {
   "cell_type": "markdown",
   "id": "7ccf7609",
   "metadata": {},
   "source": [
    "Distance_km, Amount_km to understand how much it costs per kilometer."
   ]
  },
  {
   "cell_type": "code",
   "execution_count": 51,
   "id": "664c41ec",
   "metadata": {},
   "outputs": [],
   "source": [
    "rides['Distance_km'] = round(rides[\"Distance_(miles)\"]*1.60934,2)\n",
    "rides['Amount_km'] = round(rides[\"Fare_Amount\"]/rides['Distance_km'],2)"
   ]
  },
  {
   "cell_type": "markdown",
   "id": "dc08f51a",
   "metadata": {},
   "source": [
    "Request_Lead_Time to understand delta time between and will now allow for how much time (in minutes) customers usually wait for Uber cars to reach their destination. Here, it is calculated on the basis of minutes."
   ]
  },
  {
   "cell_type": "code",
   "execution_count": 52,
   "id": "bb0c7106",
   "metadata": {},
   "outputs": [],
   "source": [
    "rides['Request_Lead_Time'] = rides['Begin_Trip_Time'] - rides['Request_Time']\n",
    "rides['Request_Lead_Time'] = rides['Request_Lead_Time'].apply(lambda x: round(x.total_seconds()/60,1))"
   ]
  },
  {
   "cell_type": "markdown",
   "id": "80563d42",
   "metadata": {},
   "source": [
    "Trip_Duration to understand the delta time between and will now allow for how much time (in minutes) is spent on each trip."
   ]
  },
  {
   "cell_type": "code",
   "execution_count": 53,
   "id": "da9b7d83",
   "metadata": {},
   "outputs": [],
   "source": [
    "rides['Trip_Duration'] = rides['Dropoff_Time'] - rides['Begin_Trip_Time']\n",
    "rides['Trip_Duration'] = rides['Trip_Duration'].apply(lambda x: round(x.total_seconds()/60,1))"
   ]
  },
  {
   "cell_type": "markdown",
   "id": "94345308",
   "metadata": {},
   "source": [
    "Driver_Cancelled, Driver_Cancelled and Unfulfilled records will not be useful in the analysis. Hence, changing it as nan."
   ]
  },
  {
   "cell_type": "code",
   "execution_count": 54,
   "id": "375cc7c3",
   "metadata": {},
   "outputs": [
    {
     "data": {
      "text/plain": [
       "array(['COMPLETED', 'CANCELED', 'DRIVER_CANCELED'], dtype=object)"
      ]
     },
     "execution_count": 54,
     "metadata": {},
     "output_type": "execute_result"
    }
   ],
   "source": [
    "rides['Trip_or_Order_Status'].unique()"
   ]
  },
  {
   "cell_type": "code",
   "execution_count": 55,
   "id": "8134750c",
   "metadata": {},
   "outputs": [],
   "source": [
    "rides.loc[(rides['Trip_or_Order_Status'] == 'CANCELED') | (rides['Trip_or_Order_Status'] == 'DRIVER_CANCELED') | (rides['Trip_or_Order_Status'] == 'UNFULFILLED'),'Request_Lead_Time']=np.nan\n",
    "rides.loc[(rides['Trip_or_Order_Status'] == 'CANCELED') | (rides['Trip_or_Order_Status'] == 'DRIVER_CANCELED') | (rides['Trip_or_Order_Status'] == 'UNFULFILLED'),'Amount_km']=np.nan\n",
    "rides.loc[(rides['Trip_or_Order_Status'] == 'CANCELED') | (rides['Trip_or_Order_Status'] == 'DRIVER_CANCELED') | (rides['Trip_or_Order_Status'] == 'UNFULFILLED'),['Begin_Trip_Time','Dropoff_Time']]= np.nan"
   ]
  },
  {
   "cell_type": "markdown",
   "id": "1d9c1589",
   "metadata": {},
   "source": [
    "## Data Analysis"
   ]
  },
  {
   "cell_type": "markdown",
   "id": "5b3c360a",
   "metadata": {},
   "source": [
    "Excluding all trips with CANCELED,DRIVER_CANCELED and UNFULFILLED as they should not be considered in some queries."
   ]
  },
  {
   "cell_type": "code",
   "execution_count": 56,
   "id": "02705763",
   "metadata": {},
   "outputs": [],
   "source": [
    "completed_rides = rides[(rides['Trip_or_Order_Status']!='CANCELED')&(rides['Trip_or_Order_Status']!='DRIVER_CANCELED')&(rides['Trip_or_Order_Status']!='UNFULFILLED')]"
   ]
  },
  {
   "cell_type": "code",
   "execution_count": 57,
   "id": "4dbdd83a",
   "metadata": {},
   "outputs": [
    {
     "name": "stdout",
     "output_type": "stream",
     "text": [
      "Total trips:  444\n",
      "year\n",
      "2016     17\n",
      "2017    120\n",
      "2018    146\n",
      "2019    106\n",
      "2020     52\n",
      "2021      3\n",
      "Name: count, dtype: int64\n"
     ]
    },
    {
     "data": {
      "image/png": "[encoded data removed]",
      "text/plain": [
       "<Figure size 640x480 with 1 Axes>"
      ]
     },
     "metadata": {},
     "output_type": "display_data"
    }
   ],
   "source": [
    "print('Total trips: ', completed_rides[\"Trip_or_Order_Status\"].count())\n",
    "print(completed_rides[\"year\"].value_counts().sort_index(ascending=True))\n",
    "sns.countplot(data=completed_rides, x='year',order=['2016','2017','2018','2019','2020','2021'], palette='pastel');"
   ]
  },
  {
   "cell_type": "markdown",
   "id": "b0d75602",
   "metadata": {},
   "source": [
    "444 trips completed from Apr’16 to Jan’21. With exception of 2016 and 2021 (not full years), it can be clearly seen that from 2017 to 2019 mid-year passengers are 124, and that there is a significant decrease from 2019 to 2020 (-51%). This is easily explained by the outbreak of COVID."
   ]
  },
  {
   "cell_type": "code",
   "execution_count": 58,
   "id": "28ff602d",
   "metadata": {},
   "outputs": [
    {
     "name": "stdout",
     "output_type": "stream",
     "text": [
      "Total trips:  515\n",
      "Trip_or_Order_Status\n",
      "COMPLETED          86.2\n",
      "CANCELED           11.8\n",
      "DRIVER_CANCELED     1.9\n",
      "Name: count, dtype: float64\n"
     ]
    },
    {
     "data": {
      "image/png": "[encoded data removed]",
      "text/plain": [
       "<Figure size 640x480 with 1 Axes>"
      ]
     },
     "metadata": {},
     "output_type": "display_data"
    }
   ],
   "source": [
    "print('Total trips: ', rides[\"Trip_or_Order_Status\"].count())\n",
    "print(round(rides[\"Trip_or_Order_Status\"].value_counts()/rides[\"Trip_or_Order_Status\"].size*100,1))\n",
    "sns.countplot(data=rides, x='year', order=['2015','2016','2017','2018','2019','2020','2021'], hue='Trip_or_Order_Status', palette='coolwarm');"
   ]
  },
  {
   "cell_type": "markdown",
   "id": "8f771bec",
   "metadata": {},
   "source": [
    "With exception of 2015 and 2021 (due to low travel volume), 2020 has the highest cancellation record."
   ]
  },
  {
   "cell_type": "code",
   "execution_count": 59,
   "id": "206c358e",
   "metadata": {
    "scrolled": true
   },
   "outputs": [
    {
     "name": "stdout",
     "output_type": "stream",
     "text": [
      "              count     %\n",
      "Product_Type             \n",
      "UberX           401  90.3\n",
      "Pool             39   8.8\n",
      "Black             4   0.9\n"
     ]
    },
    {
     "data": {
      "image/png": "[encoded data removed]",
      "text/plain": [
       "<Figure size 640x480 with 1 Axes>"
      ]
     },
     "metadata": {},
     "output_type": "display_data"
    }
   ],
   "source": [
    "# Creating a serie with product types count\n",
    "pt_rides = pd.Series(completed_rides[\"Product_Type\"].value_counts().sort_index(ascending=False))\n",
    "# Transforming serie in dataframe\n",
    "df = pd.DataFrame(pt_rides)\n",
    "# Including new column with trips portion\n",
    "df['%'] = (completed_rides[\"Product_Type\"].value_counts().sort_index(ascending=False)/completed_rides[\"Product_Type\"].size*100).round(1)\n",
    "#Renaming columns labels\n",
    "df.rename(columns={'Product_Type':'Total Rides'}, inplace=True)\n",
    "print(df)\n",
    "# Plotting product types count\n",
    "completed_rides['Product_Type'].value_counts().plot(kind='bar');"
   ]
  },
  {
   "cell_type": "markdown",
   "id": "725ca7e3",
   "metadata": {},
   "source": [
    "UberX is the preferred product type with a frequency of 90.3%, as it is more affordable than others. \n",
    "\n"
   ]
  },
  {
   "cell_type": "code",
   "execution_count": 60,
   "id": "f1fe5eda",
   "metadata": {},
   "outputs": [
    {
     "name": "stdout",
     "output_type": "stream",
     "text": [
      "Avg. fare: 19.2 BRL\n",
      "Avg. distance: 8.1 km\n",
      "Avg. fare/km: 2.4 BRL/km\n",
      "Avg. time spent on trips: 21.4 minutes\n",
      "\n",
      "Total fare amount: 8532.8 BRL\n",
      "Total distance: 3575.0 km\n",
      "Total time spent on trips: 158.4 hours\n"
     ]
    }
   ],
   "source": [
    "print('Avg. fare:', round(completed_rides[\"Fare_Amount\"].mean(),1),'BRL')\n",
    "print('Avg. distance:',round(completed_rides[\"Distance_km\"].mean(),1),'km')\n",
    "print('Avg. fare/km:',round(completed_rides[\"Fare_Amount\"].sum()/completed_rides[\"Distance_km\"].sum(),1),'BRL/km')\n",
    "print('Avg. time spent on trips:',round(completed_rides[\"Trip_Duration\"].mean(),1),'minutes')\n",
    "print('')\n",
    "print('Total fare amount:', round(completed_rides[\"Fare_Amount\"].sum(),1),'BRL')\n",
    "print('Total distance:',round(completed_rides[\"Distance_km\"].sum(),1),'km')\n",
    "print('Total time spent on trips:',round(completed_rides[\"Trip_Duration\"].sum()/60,1),'hours')"
   ]
  },
  {
   "cell_type": "code",
   "execution_count": 61,
   "id": "96c9fbe8",
   "metadata": {
    "scrolled": true
   },
   "outputs": [
    {
     "data": {
      "image/png": "[encoded data removed]",
      "text/plain": [
       "<Figure size 1200x400 with 1 Axes>"
      ]
     },
     "metadata": {},
     "output_type": "display_data"
    }
   ],
   "source": [
    "#creating an auxiliar data frame to be displayed in category plot\n",
    "aux_serie = round((completed_rides.groupby('weekday')['Fare_Amount'].sum()/completed_rides.groupby('weekday')['Distance_km'].sum()),2)                                                                                                                              \n",
    "amount_km_df = pd.DataFrame(aux_serie)\n",
    "amount_km_df = amount_km_df.reset_index()\n",
    "amount_km_df.rename(columns={'weekday':'weekday',0:'values'},inplace=True)\n",
    "sns.catplot(x='weekday', y='values', data=amount_km_df, kind='bar', height=4, aspect=3, order=['Mon','Tue','Wed','Thu','Fri','Sat','Sun'],palette='magma');"
   ]
  },
  {
   "cell_type": "markdown",
   "id": "bdd1b61e",
   "metadata": {},
   "source": [
    "As observed, Monday, Wednesday, Friday, and Sunday are the most expensive days of the week. "
   ]
  },
  {
   "cell_type": "code",
   "execution_count": 62,
   "id": "4521f077",
   "metadata": {},
   "outputs": [
    {
     "data": {
      "text/html": [
       "<div>\n",
       "<style scoped>\n",
       "    .dataframe tbody tr th:only-of-type {\n",
       "        vertical-align: middle;\n",
       "    }\n",
       "\n",
       "    .dataframe tbody tr th {\n",
       "        vertical-align: top;\n",
       "    }\n",
       "\n",
       "    .dataframe thead th {\n",
       "        text-align: right;\n",
       "    }\n",
       "</style>\n",
       "<table border=\"1\" class=\"dataframe\">\n",
       "  <thead>\n",
       "    <tr style=\"text-align: right;\">\n",
       "      <th></th>\n",
       "      <th>City</th>\n",
       "      <th>Product_Type</th>\n",
       "      <th>Trip_or_Order_Status</th>\n",
       "      <th>Request_Time</th>\n",
       "      <th>Begin_Trip_Time</th>\n",
       "      <th>Begin_Trip_Lat</th>\n",
       "      <th>Begin_Trip_Lng</th>\n",
       "      <th>Dropoff_Time</th>\n",
       "      <th>Dropoff_Lat</th>\n",
       "      <th>Dropoff_Lng</th>\n",
       "      <th>...</th>\n",
       "      <th>Fare_Amount</th>\n",
       "      <th>Fare_Currency</th>\n",
       "      <th>year</th>\n",
       "      <th>month</th>\n",
       "      <th>weekday</th>\n",
       "      <th>time</th>\n",
       "      <th>Distance_km</th>\n",
       "      <th>Amount_km</th>\n",
       "      <th>Request_Lead_Time</th>\n",
       "      <th>Trip_Duration</th>\n",
       "    </tr>\n",
       "  </thead>\n",
       "  <tbody>\n",
       "    <tr>\n",
       "      <th>3</th>\n",
       "      <td>458</td>\n",
       "      <td>UberX</td>\n",
       "      <td>COMPLETED</td>\n",
       "      <td>2020-12-11 23:16:33</td>\n",
       "      <td>2020-12-11 23:27:32</td>\n",
       "      <td>-23.559410</td>\n",
       "      <td>-46.666435</td>\n",
       "      <td>2020-12-12 00:32:47</td>\n",
       "      <td>-23.425755</td>\n",
       "      <td>-46.481190</td>\n",
       "      <td>...</td>\n",
       "      <td>58.77</td>\n",
       "      <td>BRL</td>\n",
       "      <td>2020</td>\n",
       "      <td>Dec</td>\n",
       "      <td>Fri</td>\n",
       "      <td>23:16</td>\n",
       "      <td>31.77</td>\n",
       "      <td>1.85</td>\n",
       "      <td>11.0</td>\n",
       "      <td>65.2</td>\n",
       "    </tr>\n",
       "    <tr>\n",
       "      <th>305</th>\n",
       "      <td>458</td>\n",
       "      <td>UberX</td>\n",
       "      <td>COMPLETED</td>\n",
       "      <td>2018-04-15 23:18:40</td>\n",
       "      <td>2018-04-15 23:27:42</td>\n",
       "      <td>-23.502636</td>\n",
       "      <td>-46.624952</td>\n",
       "      <td>2018-04-15 23:34:17</td>\n",
       "      <td>-23.503310</td>\n",
       "      <td>-46.636808</td>\n",
       "      <td>...</td>\n",
       "      <td>11.27</td>\n",
       "      <td>BRL</td>\n",
       "      <td>2018</td>\n",
       "      <td>Apr</td>\n",
       "      <td>Sun</td>\n",
       "      <td>23:18</td>\n",
       "      <td>0.24</td>\n",
       "      <td>46.96</td>\n",
       "      <td>9.0</td>\n",
       "      <td>6.6</td>\n",
       "    </tr>\n",
       "  </tbody>\n",
       "</table>\n",
       "<p>2 rows × 21 columns</p>\n",
       "</div>"
      ],
      "text/plain": [
       "     City Product_Type Trip_or_Order_Status        Request_Time  \\\n",
       "3     458        UberX            COMPLETED 2020-12-11 23:16:33   \n",
       "305   458        UberX            COMPLETED 2018-04-15 23:18:40   \n",
       "\n",
       "        Begin_Trip_Time  Begin_Trip_Lat  Begin_Trip_Lng        Dropoff_Time  \\\n",
       "3   2020-12-11 23:27:32      -23.559410      -46.666435 2020-12-12 00:32:47   \n",
       "305 2018-04-15 23:27:42      -23.502636      -46.624952 2018-04-15 23:34:17   \n",
       "\n",
       "     Dropoff_Lat  Dropoff_Lng  ...  Fare_Amount  Fare_Currency  year month  \\\n",
       "3     -23.425755   -46.481190  ...        58.77            BRL  2020   Dec   \n",
       "305   -23.503310   -46.636808  ...        11.27            BRL  2018   Apr   \n",
       "\n",
       "    weekday   time Distance_km  Amount_km  Request_Lead_Time  Trip_Duration  \n",
       "3       Fri  23:16       31.77       1.85               11.0           65.2  \n",
       "305     Sun  23:18        0.24      46.96                9.0            6.6  \n",
       "\n",
       "[2 rows x 21 columns]"
      ]
     },
     "execution_count": 62,
     "metadata": {},
     "output_type": "execute_result"
    }
   ],
   "source": [
    "rides_distance_max = completed_rides[completed_rides[\"Distance_km\"]==completed_rides[\"Distance_km\"].max()]\n",
    "rides_distance_min = completed_rides[completed_rides[\"Distance_km\"]==completed_rides[\"Distance_km\"].min()]\n",
    "rides_distance = pd.concat([rides_distance_max,rides_distance_min])\n",
    "rides_distance"
   ]
  },
  {
   "cell_type": "markdown",
   "id": "acbc35b1",
   "metadata": {},
   "source": [
    "The table below shows the longest ride (31.77 km) and the shortest ride (0.24 km)."
   ]
  },
  {
   "cell_type": "code",
   "execution_count": 63,
   "id": "09456c23",
   "metadata": {},
   "outputs": [
    {
     "data": {
      "text/html": [
       "<div>\n",
       "<style scoped>\n",
       "    .dataframe tbody tr th:only-of-type {\n",
       "        vertical-align: middle;\n",
       "    }\n",
       "\n",
       "    .dataframe tbody tr th {\n",
       "        vertical-align: top;\n",
       "    }\n",
       "\n",
       "    .dataframe thead th {\n",
       "        text-align: right;\n",
       "    }\n",
       "</style>\n",
       "<table border=\"1\" class=\"dataframe\">\n",
       "  <thead>\n",
       "    <tr style=\"text-align: right;\">\n",
       "      <th></th>\n",
       "      <th>City</th>\n",
       "      <th>Product_Type</th>\n",
       "      <th>Trip_or_Order_Status</th>\n",
       "      <th>Request_Time</th>\n",
       "      <th>Begin_Trip_Time</th>\n",
       "      <th>Begin_Trip_Lat</th>\n",
       "      <th>Begin_Trip_Lng</th>\n",
       "      <th>Dropoff_Time</th>\n",
       "      <th>Dropoff_Lat</th>\n",
       "      <th>Dropoff_Lng</th>\n",
       "      <th>...</th>\n",
       "      <th>Fare_Amount</th>\n",
       "      <th>Fare_Currency</th>\n",
       "      <th>year</th>\n",
       "      <th>month</th>\n",
       "      <th>weekday</th>\n",
       "      <th>time</th>\n",
       "      <th>Distance_km</th>\n",
       "      <th>Amount_km</th>\n",
       "      <th>Request_Lead_Time</th>\n",
       "      <th>Trip_Duration</th>\n",
       "    </tr>\n",
       "  </thead>\n",
       "  <tbody>\n",
       "    <tr>\n",
       "      <th>305</th>\n",
       "      <td>458</td>\n",
       "      <td>UberX</td>\n",
       "      <td>COMPLETED</td>\n",
       "      <td>2018-04-15 23:18:40</td>\n",
       "      <td>2018-04-15 23:27:42</td>\n",
       "      <td>-23.502636</td>\n",
       "      <td>-46.624952</td>\n",
       "      <td>2018-04-15 23:34:17</td>\n",
       "      <td>-23.503310</td>\n",
       "      <td>-46.636808</td>\n",
       "      <td>...</td>\n",
       "      <td>11.27</td>\n",
       "      <td>BRL</td>\n",
       "      <td>2018</td>\n",
       "      <td>Apr</td>\n",
       "      <td>Sun</td>\n",
       "      <td>23:18</td>\n",
       "      <td>0.24</td>\n",
       "      <td>46.96</td>\n",
       "      <td>9.0</td>\n",
       "      <td>6.6</td>\n",
       "    </tr>\n",
       "    <tr>\n",
       "      <th>87</th>\n",
       "      <td>458</td>\n",
       "      <td>UberX</td>\n",
       "      <td>COMPLETED</td>\n",
       "      <td>2019-11-30 03:34:56</td>\n",
       "      <td>2019-11-30 03:40:37</td>\n",
       "      <td>-23.591813</td>\n",
       "      <td>-46.690720</td>\n",
       "      <td>2019-11-30 03:53:24</td>\n",
       "      <td>-23.559366</td>\n",
       "      <td>-46.666489</td>\n",
       "      <td>...</td>\n",
       "      <td>0.00</td>\n",
       "      <td>BRL</td>\n",
       "      <td>2019</td>\n",
       "      <td>Nov</td>\n",
       "      <td>Sat</td>\n",
       "      <td>03:34</td>\n",
       "      <td>5.70</td>\n",
       "      <td>0.00</td>\n",
       "      <td>5.7</td>\n",
       "      <td>12.8</td>\n",
       "    </tr>\n",
       "  </tbody>\n",
       "</table>\n",
       "<p>2 rows × 21 columns</p>\n",
       "</div>"
      ],
      "text/plain": [
       "     City Product_Type Trip_or_Order_Status        Request_Time  \\\n",
       "305   458        UberX            COMPLETED 2018-04-15 23:18:40   \n",
       "87    458        UberX            COMPLETED 2019-11-30 03:34:56   \n",
       "\n",
       "        Begin_Trip_Time  Begin_Trip_Lat  Begin_Trip_Lng        Dropoff_Time  \\\n",
       "305 2018-04-15 23:27:42      -23.502636      -46.624952 2018-04-15 23:34:17   \n",
       "87  2019-11-30 03:40:37      -23.591813      -46.690720 2019-11-30 03:53:24   \n",
       "\n",
       "     Dropoff_Lat  Dropoff_Lng  ...  Fare_Amount  Fare_Currency  year month  \\\n",
       "305   -23.503310   -46.636808  ...        11.27            BRL  2018   Apr   \n",
       "87    -23.559366   -46.666489  ...         0.00            BRL  2019   Nov   \n",
       "\n",
       "    weekday   time Distance_km  Amount_km  Request_Lead_Time  Trip_Duration  \n",
       "305     Sun  23:18        0.24      46.96                9.0            6.6  \n",
       "87      Sat  03:34        5.70       0.00                5.7           12.8  \n",
       "\n",
       "[2 rows x 21 columns]"
      ]
     },
     "execution_count": 63,
     "metadata": {},
     "output_type": "execute_result"
    }
   ],
   "source": [
    "rides_amount_km_max = completed_rides[completed_rides[\"Amount_km\"]==completed_rides[\"Amount_km\"].max()]\n",
    "rides_amount_km_min = completed_rides[completed_rides[\"Amount_km\"]==completed_rides[\"Amount_km\"].min()]\n",
    "rides_amount_km = pd.concat([rides_amount_km_max,rides_amount_km_min])\n",
    "rides_amount_km"
   ]
  },
  {
   "cell_type": "markdown",
   "id": "ec58949d",
   "metadata": {},
   "source": [
    "The full paid mileage price: expensive (46.96 BRL / km) and cheap (0 BRL / km)."
   ]
  },
  {
   "cell_type": "code",
   "execution_count": 64,
   "id": "e9e4380c",
   "metadata": {},
   "outputs": [
    {
     "name": "stdout",
     "output_type": "stream",
     "text": [
      "4.9 minutes\n"
     ]
    }
   ],
   "source": [
    "print(round(completed_rides[\"Request_Lead_Time\"].mean(),1),'minutes')"
   ]
  },
  {
   "cell_type": "markdown",
   "id": "7ae4f991",
   "metadata": {},
   "source": [
    "It takes about five minutes to start the journey, after which it has been requested."
   ]
  },
  {
   "cell_type": "markdown",
   "id": "371dcbc2",
   "metadata": {},
   "source": [
    "## Recommendations\n",
    "\n",
    "- Since not many people travel through Pool, Black they should increase the UberX rides to gain profit. As it is more affordable than others.\n",
    "- Uber can lead offers on rides during festival seasons to attract customers which might take long-distance rides.\n",
    "- Short-distance Uber rides are quite cheap, compared to long-distance. Uber can fix some amount per kilometer can set minimum limit for traveling in Uber.\n",
    "\n",
    "\n"
   ]
  },
  {
   "cell_type": "code",
   "execution_count": 65,
   "id": "1dfc20b8",
   "metadata": {},
   "outputs": [
    {
     "data": {
      "text/html": [
       "<div>\n",
       "<style scoped>\n",
       "    .dataframe tbody tr th:only-of-type {\n",
       "        vertical-align: middle;\n",
       "    }\n",
       "\n",
       "    .dataframe tbody tr th {\n",
       "        vertical-align: top;\n",
       "    }\n",
       "\n",
       "    .dataframe thead th {\n",
       "        text-align: right;\n",
       "    }\n",
       "</style>\n",
       "<table border=\"1\" class=\"dataframe\">\n",
       "  <thead>\n",
       "    <tr style=\"text-align: right;\">\n",
       "      <th></th>\n",
       "      <th>City</th>\n",
       "      <th>Product_Type</th>\n",
       "      <th>Trip_or_Order_Status</th>\n",
       "      <th>Request_Time</th>\n",
       "      <th>Begin_Trip_Time</th>\n",
       "      <th>Begin_Trip_Lat</th>\n",
       "      <th>Begin_Trip_Lng</th>\n",
       "      <th>Dropoff_Time</th>\n",
       "      <th>Dropoff_Lat</th>\n",
       "      <th>Dropoff_Lng</th>\n",
       "      <th>...</th>\n",
       "      <th>Fare_Amount</th>\n",
       "      <th>Fare_Currency</th>\n",
       "      <th>year</th>\n",
       "      <th>month</th>\n",
       "      <th>weekday</th>\n",
       "      <th>time</th>\n",
       "      <th>Distance_km</th>\n",
       "      <th>Amount_km</th>\n",
       "      <th>Request_Lead_Time</th>\n",
       "      <th>Trip_Duration</th>\n",
       "    </tr>\n",
       "  </thead>\n",
       "  <tbody>\n",
       "    <tr>\n",
       "      <th>0</th>\n",
       "      <td>458</td>\n",
       "      <td>Black</td>\n",
       "      <td>COMPLETED</td>\n",
       "      <td>2021-01-13 22:06:46</td>\n",
       "      <td>2021-01-13 22:11:10</td>\n",
       "      <td>-23.599752</td>\n",
       "      <td>-46.715954</td>\n",
       "      <td>2021-01-13 22:29:13</td>\n",
       "      <td>-23.559359</td>\n",
       "      <td>-46.666542</td>\n",
       "      <td>...</td>\n",
       "      <td>29.63</td>\n",
       "      <td>BRL</td>\n",
       "      <td>2021</td>\n",
       "      <td>Jan</td>\n",
       "      <td>Wed</td>\n",
       "      <td>22:06</td>\n",
       "      <td>7.79</td>\n",
       "      <td>3.80</td>\n",
       "      <td>4.4</td>\n",
       "      <td>18.1</td>\n",
       "    </tr>\n",
       "    <tr>\n",
       "      <th>1</th>\n",
       "      <td>458</td>\n",
       "      <td>UberX</td>\n",
       "      <td>COMPLETED</td>\n",
       "      <td>2021-01-13 20:21:05</td>\n",
       "      <td>2021-01-13 20:27:29</td>\n",
       "      <td>-23.559298</td>\n",
       "      <td>-46.666454</td>\n",
       "      <td>2021-01-13 20:54:50</td>\n",
       "      <td>-23.599585</td>\n",
       "      <td>-46.715717</td>\n",
       "      <td>...</td>\n",
       "      <td>20.86</td>\n",
       "      <td>BRL</td>\n",
       "      <td>2021</td>\n",
       "      <td>Jan</td>\n",
       "      <td>Wed</td>\n",
       "      <td>20:21</td>\n",
       "      <td>8.55</td>\n",
       "      <td>2.44</td>\n",
       "      <td>6.4</td>\n",
       "      <td>27.4</td>\n",
       "    </tr>\n",
       "    <tr>\n",
       "      <th>2</th>\n",
       "      <td>458</td>\n",
       "      <td>UberX</td>\n",
       "      <td>COMPLETED</td>\n",
       "      <td>2021-01-03 00:23:22</td>\n",
       "      <td>2021-01-03 00:33:00</td>\n",
       "      <td>-23.626593</td>\n",
       "      <td>-46.659410</td>\n",
       "      <td>2021-01-03 00:50:56</td>\n",
       "      <td>-23.559273</td>\n",
       "      <td>-46.666595</td>\n",
       "      <td>...</td>\n",
       "      <td>34.23</td>\n",
       "      <td>BRL</td>\n",
       "      <td>2021</td>\n",
       "      <td>Jan</td>\n",
       "      <td>Sun</td>\n",
       "      <td>00:23</td>\n",
       "      <td>9.50</td>\n",
       "      <td>3.60</td>\n",
       "      <td>9.6</td>\n",
       "      <td>17.9</td>\n",
       "    </tr>\n",
       "    <tr>\n",
       "      <th>3</th>\n",
       "      <td>458</td>\n",
       "      <td>UberX</td>\n",
       "      <td>COMPLETED</td>\n",
       "      <td>2020-12-11 23:16:33</td>\n",
       "      <td>2020-12-11 23:27:32</td>\n",
       "      <td>-23.559410</td>\n",
       "      <td>-46.666435</td>\n",
       "      <td>2020-12-12 00:32:47</td>\n",
       "      <td>-23.425755</td>\n",
       "      <td>-46.481190</td>\n",
       "      <td>...</td>\n",
       "      <td>58.77</td>\n",
       "      <td>BRL</td>\n",
       "      <td>2020</td>\n",
       "      <td>Dec</td>\n",
       "      <td>Fri</td>\n",
       "      <td>23:16</td>\n",
       "      <td>31.77</td>\n",
       "      <td>1.85</td>\n",
       "      <td>11.0</td>\n",
       "      <td>65.2</td>\n",
       "    </tr>\n",
       "    <tr>\n",
       "      <th>4</th>\n",
       "      <td>458</td>\n",
       "      <td>UberX</td>\n",
       "      <td>COMPLETED</td>\n",
       "      <td>2020-12-11 00:35:46</td>\n",
       "      <td>2020-12-11 00:46:46</td>\n",
       "      <td>-23.584846</td>\n",
       "      <td>-46.663590</td>\n",
       "      <td>2020-12-11 00:57:57</td>\n",
       "      <td>-23.559261</td>\n",
       "      <td>-46.666510</td>\n",
       "      <td>...</td>\n",
       "      <td>12.63</td>\n",
       "      <td>BRL</td>\n",
       "      <td>2020</td>\n",
       "      <td>Dec</td>\n",
       "      <td>Fri</td>\n",
       "      <td>00:35</td>\n",
       "      <td>4.09</td>\n",
       "      <td>3.09</td>\n",
       "      <td>11.0</td>\n",
       "      <td>11.2</td>\n",
       "    </tr>\n",
       "    <tr>\n",
       "      <th>...</th>\n",
       "      <td>...</td>\n",
       "      <td>...</td>\n",
       "      <td>...</td>\n",
       "      <td>...</td>\n",
       "      <td>...</td>\n",
       "      <td>...</td>\n",
       "      <td>...</td>\n",
       "      <td>...</td>\n",
       "      <td>...</td>\n",
       "      <td>...</td>\n",
       "      <td>...</td>\n",
       "      <td>...</td>\n",
       "      <td>...</td>\n",
       "      <td>...</td>\n",
       "      <td>...</td>\n",
       "      <td>...</td>\n",
       "      <td>...</td>\n",
       "      <td>...</td>\n",
       "      <td>...</td>\n",
       "      <td>...</td>\n",
       "      <td>...</td>\n",
       "    </tr>\n",
       "    <tr>\n",
       "      <th>549</th>\n",
       "      <td>458</td>\n",
       "      <td>Pool</td>\n",
       "      <td>COMPLETED</td>\n",
       "      <td>2016-06-22 11:07:02</td>\n",
       "      <td>2016-06-22 11:14:17</td>\n",
       "      <td>-23.616073</td>\n",
       "      <td>-46.665949</td>\n",
       "      <td>2016-06-22 11:24:28</td>\n",
       "      <td>-23.602760</td>\n",
       "      <td>-46.644897</td>\n",
       "      <td>...</td>\n",
       "      <td>7.84</td>\n",
       "      <td>BRL</td>\n",
       "      <td>2016</td>\n",
       "      <td>Jun</td>\n",
       "      <td>Wed</td>\n",
       "      <td>11:07</td>\n",
       "      <td>3.54</td>\n",
       "      <td>2.21</td>\n",
       "      <td>7.2</td>\n",
       "      <td>10.2</td>\n",
       "    </tr>\n",
       "    <tr>\n",
       "      <th>550</th>\n",
       "      <td>458</td>\n",
       "      <td>UberX</td>\n",
       "      <td>COMPLETED</td>\n",
       "      <td>2016-04-07 00:30:46</td>\n",
       "      <td>2016-04-07 00:35:23</td>\n",
       "      <td>-23.569478</td>\n",
       "      <td>-46.672408</td>\n",
       "      <td>2016-04-07 00:50:14</td>\n",
       "      <td>-23.602737</td>\n",
       "      <td>-46.645352</td>\n",
       "      <td>...</td>\n",
       "      <td>15.06</td>\n",
       "      <td>BRL</td>\n",
       "      <td>2016</td>\n",
       "      <td>Apr</td>\n",
       "      <td>Thu</td>\n",
       "      <td>00:30</td>\n",
       "      <td>6.57</td>\n",
       "      <td>2.29</td>\n",
       "      <td>4.6</td>\n",
       "      <td>14.8</td>\n",
       "    </tr>\n",
       "    <tr>\n",
       "      <th>551</th>\n",
       "      <td>458</td>\n",
       "      <td>UberX</td>\n",
       "      <td>COMPLETED</td>\n",
       "      <td>2016-04-06 21:16:52</td>\n",
       "      <td>2016-04-06 21:20:44</td>\n",
       "      <td>-23.602608</td>\n",
       "      <td>-46.645084</td>\n",
       "      <td>2016-04-06 21:41:30</td>\n",
       "      <td>-23.569549</td>\n",
       "      <td>-46.672412</td>\n",
       "      <td>...</td>\n",
       "      <td>15.16</td>\n",
       "      <td>BRL</td>\n",
       "      <td>2016</td>\n",
       "      <td>Apr</td>\n",
       "      <td>Wed</td>\n",
       "      <td>21:16</td>\n",
       "      <td>5.55</td>\n",
       "      <td>2.73</td>\n",
       "      <td>3.9</td>\n",
       "      <td>20.8</td>\n",
       "    </tr>\n",
       "    <tr>\n",
       "      <th>552</th>\n",
       "      <td>458</td>\n",
       "      <td>UberX</td>\n",
       "      <td>CANCELED</td>\n",
       "      <td>2016-04-06 21:12:03</td>\n",
       "      <td>NaT</td>\n",
       "      <td>-23.601718</td>\n",
       "      <td>-46.646871</td>\n",
       "      <td>NaT</td>\n",
       "      <td>-23.600862</td>\n",
       "      <td>-46.644494</td>\n",
       "      <td>...</td>\n",
       "      <td>0.00</td>\n",
       "      <td>BRL</td>\n",
       "      <td>2016</td>\n",
       "      <td>Apr</td>\n",
       "      <td>Wed</td>\n",
       "      <td>21:12</td>\n",
       "      <td>0.00</td>\n",
       "      <td>NaN</td>\n",
       "      <td>NaN</td>\n",
       "      <td>0.0</td>\n",
       "    </tr>\n",
       "    <tr>\n",
       "      <th>553</th>\n",
       "      <td>458</td>\n",
       "      <td>UberX</td>\n",
       "      <td>CANCELED</td>\n",
       "      <td>2015-12-17 23:52:50</td>\n",
       "      <td>NaT</td>\n",
       "      <td>-23.607114</td>\n",
       "      <td>-46.566483</td>\n",
       "      <td>NaT</td>\n",
       "      <td>-23.611577</td>\n",
       "      <td>-46.570618</td>\n",
       "      <td>...</td>\n",
       "      <td>7.00</td>\n",
       "      <td>BRL</td>\n",
       "      <td>2015</td>\n",
       "      <td>Dec</td>\n",
       "      <td>Thu</td>\n",
       "      <td>23:52</td>\n",
       "      <td>0.00</td>\n",
       "      <td>NaN</td>\n",
       "      <td>NaN</td>\n",
       "      <td>-24173281.0</td>\n",
       "    </tr>\n",
       "  </tbody>\n",
       "</table>\n",
       "<p>515 rows × 21 columns</p>\n",
       "</div>"
      ],
      "text/plain": [
       "     City Product_Type Trip_or_Order_Status        Request_Time  \\\n",
       "0     458        Black            COMPLETED 2021-01-13 22:06:46   \n",
       "1     458        UberX            COMPLETED 2021-01-13 20:21:05   \n",
       "2     458        UberX            COMPLETED 2021-01-03 00:23:22   \n",
       "3     458        UberX            COMPLETED 2020-12-11 23:16:33   \n",
       "4     458        UberX            COMPLETED 2020-12-11 00:35:46   \n",
       "..    ...          ...                  ...                 ...   \n",
       "549   458         Pool            COMPLETED 2016-06-22 11:07:02   \n",
       "550   458        UberX            COMPLETED 2016-04-07 00:30:46   \n",
       "551   458        UberX            COMPLETED 2016-04-06 21:16:52   \n",
       "552   458        UberX             CANCELED 2016-04-06 21:12:03   \n",
       "553   458        UberX             CANCELED 2015-12-17 23:52:50   \n",
       "\n",
       "        Begin_Trip_Time  Begin_Trip_Lat  Begin_Trip_Lng        Dropoff_Time  \\\n",
       "0   2021-01-13 22:11:10      -23.599752      -46.715954 2021-01-13 22:29:13   \n",
       "1   2021-01-13 20:27:29      -23.559298      -46.666454 2021-01-13 20:54:50   \n",
       "2   2021-01-03 00:33:00      -23.626593      -46.659410 2021-01-03 00:50:56   \n",
       "3   2020-12-11 23:27:32      -23.559410      -46.666435 2020-12-12 00:32:47   \n",
       "4   2020-12-11 00:46:46      -23.584846      -46.663590 2020-12-11 00:57:57   \n",
       "..                  ...             ...             ...                 ...   \n",
       "549 2016-06-22 11:14:17      -23.616073      -46.665949 2016-06-22 11:24:28   \n",
       "550 2016-04-07 00:35:23      -23.569478      -46.672408 2016-04-07 00:50:14   \n",
       "551 2016-04-06 21:20:44      -23.602608      -46.645084 2016-04-06 21:41:30   \n",
       "552                 NaT      -23.601718      -46.646871                 NaT   \n",
       "553                 NaT      -23.607114      -46.566483                 NaT   \n",
       "\n",
       "     Dropoff_Lat  Dropoff_Lng  ...  Fare_Amount  Fare_Currency  year month  \\\n",
       "0     -23.559359   -46.666542  ...        29.63            BRL  2021   Jan   \n",
       "1     -23.599585   -46.715717  ...        20.86            BRL  2021   Jan   \n",
       "2     -23.559273   -46.666595  ...        34.23            BRL  2021   Jan   \n",
       "3     -23.425755   -46.481190  ...        58.77            BRL  2020   Dec   \n",
       "4     -23.559261   -46.666510  ...        12.63            BRL  2020   Dec   \n",
       "..           ...          ...  ...          ...            ...   ...   ...   \n",
       "549   -23.602760   -46.644897  ...         7.84            BRL  2016   Jun   \n",
       "550   -23.602737   -46.645352  ...        15.06            BRL  2016   Apr   \n",
       "551   -23.569549   -46.672412  ...        15.16            BRL  2016   Apr   \n",
       "552   -23.600862   -46.644494  ...         0.00            BRL  2016   Apr   \n",
       "553   -23.611577   -46.570618  ...         7.00            BRL  2015   Dec   \n",
       "\n",
       "    weekday   time Distance_km  Amount_km  Request_Lead_Time  Trip_Duration  \n",
       "0       Wed  22:06        7.79       3.80                4.4           18.1  \n",
       "1       Wed  20:21        8.55       2.44                6.4           27.4  \n",
       "2       Sun  00:23        9.50       3.60                9.6           17.9  \n",
       "3       Fri  23:16       31.77       1.85               11.0           65.2  \n",
       "4       Fri  00:35        4.09       3.09               11.0           11.2  \n",
       "..      ...    ...         ...        ...                ...            ...  \n",
       "549     Wed  11:07        3.54       2.21                7.2           10.2  \n",
       "550     Thu  00:30        6.57       2.29                4.6           14.8  \n",
       "551     Wed  21:16        5.55       2.73                3.9           20.8  \n",
       "552     Wed  21:12        0.00        NaN                NaN            0.0  \n",
       "553     Thu  23:52        0.00        NaN                NaN    -24173281.0  \n",
       "\n",
       "[515 rows x 21 columns]"
      ]
     },
     "execution_count": 65,
     "metadata": {},
     "output_type": "execute_result"
    }
   ],
   "source": [
    "rides"
   ]
  }
 ],
 "metadata": {
  "kernelspec": {
   "display_name": "base",
   "language": "python",
   "name": "python3"
  },
  "language_info": {
   "codemirror_mode": {
    "name": "ipython",
    "version": 3
   },
   "file_extension": ".py",
   "mimetype": "text/x-python",
   "name": "python",
   "nbconvert_exporter": "python",
   "pygments_lexer": "ipython3",
   "version": "3.12.7"
  }
 },
 "nbformat": 4,
 "nbformat_minor": 5
}
